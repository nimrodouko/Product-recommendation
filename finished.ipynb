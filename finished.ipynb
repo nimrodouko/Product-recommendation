{
  "nbformat": 4,
  "nbformat_minor": 0,
  "metadata": {
    "colab": {
      "provenance": [],
      "authorship_tag": "ABX9TyP/tNfio2LMBzzKXtQ42boM",
      "include_colab_link": true
    },
    "kernelspec": {
      "name": "python3",
      "display_name": "Python 3"
    },
    "language_info": {
      "name": "python"
    }
  },
  "cells": [
    {
      "cell_type": "markdown",
      "metadata": {
        "id": "view-in-github",
        "colab_type": "text"
      },
      "source": [
        "<a href=\"https://colab.research.google.com/github/nimrodouko/Product-recommendation/blob/main/finished.ipynb\" target=\"_parent\"><img src=\"https://colab.research.google.com/assets/colab-badge.svg\" alt=\"Open In Colab\"/></a>"
      ]
    },
    {
      "cell_type": "code",
      "execution_count": 3,
      "metadata": {
        "colab": {
          "base_uri": "https://localhost:8080/"
        },
        "id": "Uh-4O4AV3AMb",
        "outputId": "86265b51-0026-4413-a8b7-a8598a006013"
      },
      "outputs": [
        {
          "output_type": "stream",
          "name": "stdout",
          "text": [
            "\n",
            "Product Distribution in Clusters:\n",
            "product     0     1     2\n",
            "Cluster                  \n",
            "0        1064  1110  1093\n",
            "1        1100  1153  1116\n",
            "2        1099  1135  1130\n"
          ]
        }
      ],
      "source": [
        "import numpy as np\n",
        "import pandas as pd\n",
        "from sklearn.cluster import KMeans\n",
        "from sklearn.model_selection import train_test_split\n",
        "\n",
        "\n",
        "data = pd.read_csv('new.csv')\n",
        "data['gender'].replace(['male', 'female'], [0, 1], inplace=True)\n",
        "data['location'].replace(['rural', 'urban'], [0, 1], inplace=True)\n",
        "data['product'].replace(['furniture', 'clothing', 'electronics'], [0, 1, 2], inplace=True)\n",
        "X = data[['age', 'gender', 'location', 'budget']]\n",
        "y = data['product']\n",
        "model = KMeans(n_clusters=3, random_state=42, n_init=10)\n",
        "cluster_labels = model.fit_predict(X)\n",
        "\n",
        "\n",
        "data['Cluster'] = cluster_labels\n",
        "\n",
        "\n",
        "cluster_product_distribution = data.groupby(['Cluster', 'product']).size().unstack(fill_value=0)\n",
        "print(\"\\nProduct Distribution in Clusters:\")\n",
        "print(cluster_product_distribution)\n"
      ]
    }
  ]
}