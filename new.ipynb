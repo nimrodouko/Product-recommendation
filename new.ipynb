{
  "nbformat": 4,
  "nbformat_minor": 0,
  "metadata": {
    "colab": {
      "provenance": [],
      "authorship_tag": "ABX9TyMvuZcGo0UwwZ8LMiB40oMp",
      "include_colab_link": true
    },
    "kernelspec": {
      "name": "python3",
      "display_name": "Python 3"
    },
    "language_info": {
      "name": "python"
    }
  },
  "cells": [
    {
      "cell_type": "markdown",
      "metadata": {
        "id": "view-in-github",
        "colab_type": "text"
      },
      "source": [
        "<a href=\"https://colab.research.google.com/github/nimrodouko/Product-recommendation/blob/main/new.ipynb\" target=\"_parent\"><img src=\"https://colab.research.google.com/assets/colab-badge.svg\" alt=\"Open In Colab\"/></a>"
      ]
    },
    {
      "cell_type": "code",
      "execution_count": 3,
      "metadata": {
        "colab": {
          "base_uri": "https://localhost:8080/"
        },
        "id": "ksVYvtOefoL5",
        "outputId": "350b08dc-4560-4967-f9fc-3a864e6bc211"
      },
      "outputs": [
        {
          "output_type": "execute_result",
          "data": {
            "text/plain": [
              "array([0, 0, 0, ..., 2, 2, 1], dtype=int32)"
            ]
          },
          "metadata": {},
          "execution_count": 3
        }
      ],
      "source": [
        "import numpy as np\n",
        "import pandas as pd\n",
        "from sklearn.cluster import KMeans\n",
        "from sklearn.model_selection import train_test_split\n",
        "data = pd.read_csv('new_data.csv')\n",
        "data['Gender'].replace(['Male', 'Female'],['0','1'], inplace=True)\n",
        "data['location'].replace(['Rural','Urban'],['0','1'],inplace=True)\n",
        "data['Product'].replace(['Furniture','Clothing', 'Electronics'],['0','1','2'])\n",
        "\n",
        "X = data[['Age','Gender','location','budget']]\n",
        "y = data['Product']\n",
        "X_train, X_test, y_train, y_test = train_test_split(X, y, test_size=0.2, random_state=42)\n",
        "model = KMeans(n_clusters=3, random_state=42,n_init=10)\n",
        "model.fit_predict(X_train, y_train)\n"
      ]
    }
  ]
}