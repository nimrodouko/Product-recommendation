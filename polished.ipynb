{
  "nbformat": 4,
  "nbformat_minor": 0,
  "metadata": {
    "colab": {
      "provenance": [],
      "authorship_tag": "ABX9TyO6GLBLwNl4tzfVHd948iJE",
      "include_colab_link": true
    },
    "kernelspec": {
      "name": "python3",
      "display_name": "Python 3"
    },
    "language_info": {
      "name": "python"
    }
  },
  "cells": [
    {
      "cell_type": "markdown",
      "metadata": {
        "id": "view-in-github",
        "colab_type": "text"
      },
      "source": [
        "<a href=\"https://colab.research.google.com/github/nimrodouko/Product-recommendation/blob/main/polished.ipynb\" target=\"_parent\"><img src=\"https://colab.research.google.com/assets/colab-badge.svg\" alt=\"Open In Colab\"/></a>"
      ]
    },
    {
      "cell_type": "code",
      "execution_count": 4,
      "metadata": {
        "colab": {
          "base_uri": "https://localhost:8080/"
        },
        "id": "Uh-4O4AV3AMb",
        "outputId": "c9e966ea-fa51-4dfd-ef04-7f2556dac668"
      },
      "outputs": [
        {
          "output_type": "stream",
          "name": "stdout",
          "text": [
            "\n",
            "Product Distribution in Clusters:\n",
            "product     0     1     2\n",
            "Cluster                  \n",
            "0        1064  1110  1093\n",
            "1        1100  1153  1116\n",
            "2        1099  1135  1130\n"
          ]
        }
      ],
      "source": [
        "import numpy as np\n",
        "import pandas as pd\n",
        "from sklearn.cluster import KMeans\n",
        "from sklearn.model_selection import train_test_split\n",
        "\n",
        "\n",
        "data = pd.read_csv('new.csv')\n",
        "data['gender'].replace(['male', 'female'], [0, 1], inplace=True)\n",
        "data['location'].replace(['rural', 'urban'], [0, 1], inplace=True)\n",
        "data['product'].replace(['furniture', 'clothing', 'electronics'], [0, 1, 2], inplace=True)\n",
        "X = data[['age', 'gender', 'location', 'budget']]\n",
        "y = data['product']\n",
        "model = KMeans(n_clusters=3, random_state=42, n_init=10)\n",
        "cluster_labels = model.fit_predict(X)\n",
        "\n",
        "\n",
        "data['Cluster'] = cluster_labels\n",
        "\n",
        "\n",
        "cluster_product_distribution = data.groupby(['Cluster', 'product']).size().unstack(fill_value=0)\n",
        "print(\"\\nProduct Distribution in Clusters:\")\n",
        "print(cluster_product_distribution)\n"
      ]
    },
    {
      "cell_type": "code",
      "source": [
        "import joblib\n",
        "joblib.dump(model, 'model.joblib')\n",
        "from google.colab import files\n",
        "files.download('model.joblib')"
      ],
      "metadata": {
        "colab": {
          "base_uri": "https://localhost:8080/",
          "height": 17
        },
        "id": "j5PlVlT8_I5-",
        "outputId": "b518bbba-5d75-4ed2-d407-3d5d27fb3cdd"
      },
      "execution_count": 5,
      "outputs": [
        {
          "output_type": "display_data",
          "data": {
            "text/plain": [
              "<IPython.core.display.Javascript object>"
            ],
            "application/javascript": [
              "\n",
              "    async function download(id, filename, size) {\n",
              "      if (!google.colab.kernel.accessAllowed) {\n",
              "        return;\n",
              "      }\n",
              "      const div = document.createElement('div');\n",
              "      const label = document.createElement('label');\n",
              "      label.textContent = `Downloading \"${filename}\": `;\n",
              "      div.appendChild(label);\n",
              "      const progress = document.createElement('progress');\n",
              "      progress.max = size;\n",
              "      div.appendChild(progress);\n",
              "      document.body.appendChild(div);\n",
              "\n",
              "      const buffers = [];\n",
              "      let downloaded = 0;\n",
              "\n",
              "      const channel = await google.colab.kernel.comms.open(id);\n",
              "      // Send a message to notify the kernel that we're ready.\n",
              "      channel.send({})\n",
              "\n",
              "      for await (const message of channel.messages) {\n",
              "        // Send a message to notify the kernel that we're ready.\n",
              "        channel.send({})\n",
              "        if (message.buffers) {\n",
              "          for (const buffer of message.buffers) {\n",
              "            buffers.push(buffer);\n",
              "            downloaded += buffer.byteLength;\n",
              "            progress.value = downloaded;\n",
              "          }\n",
              "        }\n",
              "      }\n",
              "      const blob = new Blob(buffers, {type: 'application/binary'});\n",
              "      const a = document.createElement('a');\n",
              "      a.href = window.URL.createObjectURL(blob);\n",
              "      a.download = filename;\n",
              "      div.appendChild(a);\n",
              "      a.click();\n",
              "      div.remove();\n",
              "    }\n",
              "  "
            ]
          },
          "metadata": {}
        },
        {
          "output_type": "display_data",
          "data": {
            "text/plain": [
              "<IPython.core.display.Javascript object>"
            ],
            "application/javascript": [
              "download(\"download_cdf385ac-9396-4d42-8834-547bba682003\", \"model.joblib\", 41175)"
            ]
          },
          "metadata": {}
        }
      ]
    }
  ]
}